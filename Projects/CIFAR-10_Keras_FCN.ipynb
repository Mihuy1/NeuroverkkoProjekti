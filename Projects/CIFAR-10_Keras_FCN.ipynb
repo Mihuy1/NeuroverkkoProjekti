{
 "cells": [
  {
   "cell_type": "code",
   "id": "initial_id",
   "metadata": {
    "collapsed": true,
    "ExecuteTime": {
     "end_time": "2025-03-21T12:47:06.803895Z",
     "start_time": "2025-03-21T12:47:06.800158Z"
    }
   },
   "source": [
    "import os\n",
    "\n",
    "from keras.datasets import cifar10\n",
    "from keras.layers import Dense\n",
    "\n",
    "os.environ[\"KERAS_BACKEND\"] = \"tensorflow\"\n",
    "\n",
    "import keras\n",
    "import numpy as np\n",
    "import matplotlib.pyplot as plt"
   ],
   "outputs": [],
   "execution_count": 198
  },
  {
   "metadata": {
    "ExecuteTime": {
     "end_time": "2025-03-21T12:47:06.811939Z",
     "start_time": "2025-03-21T12:47:06.809948Z"
    }
   },
   "cell_type": "code",
   "source": [
    "from keras import backend as K\n",
    "print(K.backend())"
   ],
   "id": "94acb6cd26778c33",
   "outputs": [
    {
     "name": "stdout",
     "output_type": "stream",
     "text": [
      "tensorflow\n"
     ]
    }
   ],
   "execution_count": 199
  },
  {
   "metadata": {
    "ExecuteTime": {
     "end_time": "2025-03-21T12:47:06.844172Z",
     "start_time": "2025-03-21T12:47:06.825193Z"
    }
   },
   "cell_type": "code",
   "source": [
    "inputs = keras.Input(shape=(3072,))\n",
    "x = Dense(1002, activation='relu')(inputs)\n",
    "y = Dense(334, activation='relu')(x)\n",
    "outputs = Dense(10, activation='softmax')(y)\n",
    "\n",
    "model = keras.Model(inputs=inputs, outputs=outputs, name='cifar10')"
   ],
   "id": "290047b26846e333",
   "outputs": [],
   "execution_count": 200
  },
  {
   "metadata": {
    "ExecuteTime": {
     "end_time": "2025-03-21T12:47:06.854054Z",
     "start_time": "2025-03-21T12:47:06.849693Z"
    }
   },
   "cell_type": "code",
   "source": "model.summary()",
   "id": "68a824597d9f4c25",
   "outputs": [
    {
     "name": "stdout",
     "output_type": "stream",
     "text": [
      "Model: \"cifar10\"\n",
      "_________________________________________________________________\n",
      " Layer (type)                Output Shape              Param #   \n",
      "=================================================================\n",
      " input_25 (InputLayer)       [(None, 3072)]            0         \n",
      "                                                                 \n",
      " dense_49 (Dense)            (None, 1002)              3079146   \n",
      "                                                                 \n",
      " dense_50 (Dense)            (None, 334)               335002    \n",
      "                                                                 \n",
      " dense_51 (Dense)            (None, 10)                3350      \n",
      "                                                                 \n",
      "=================================================================\n",
      "Total params: 3,417,498\n",
      "Trainable params: 3,417,498\n",
      "Non-trainable params: 0\n",
      "_________________________________________________________________\n"
     ]
    }
   ],
   "execution_count": 201
  },
  {
   "metadata": {
    "ExecuteTime": {
     "end_time": "2025-03-21T12:47:07.243900Z",
     "start_time": "2025-03-21T12:47:06.859534Z"
    }
   },
   "cell_type": "code",
   "source": [
    "(x_train, y_train), (x_test, y_test) = cifar10.load_data()\n",
    "x_train = x_train.reshape(50000, 3072).astype(\"float32\") / 255\n",
    "x_test = x_test.reshape(10000, 3072).astype(\"float32\") / 255"
   ],
   "id": "612138ac767728a9",
   "outputs": [],
   "execution_count": 202
  },
  {
   "metadata": {
    "ExecuteTime": {
     "end_time": "2025-03-21T12:47:07.252269Z",
     "start_time": "2025-03-21T12:47:07.248938Z"
    }
   },
   "cell_type": "code",
   "source": [
    "model.compile(\n",
    "    loss=keras.losses.SparseCategoricalCrossentropy(),\n",
    "    optimizer=keras.optimizers.Adam(),\n",
    "    metrics=['accuracy']\n",
    ")"
   ],
   "id": "19d83f422697af0f",
   "outputs": [],
   "execution_count": 203
  },
  {
   "metadata": {
    "ExecuteTime": {
     "end_time": "2025-03-21T12:47:47.575366Z",
     "start_time": "2025-03-21T12:47:07.256734Z"
    }
   },
   "cell_type": "code",
   "source": "history = model.fit(x_train, y_train, batch_size=256, epochs=26, validation_split=0.25)",
   "id": "42afaa3e6702cda1",
   "outputs": [
    {
     "name": "stdout",
     "output_type": "stream",
     "text": [
      "Epoch 1/26\n",
      "147/147 [==============================] - 2s 10ms/step - loss: 2.0934 - accuracy: 0.2666 - val_loss: 1.8542 - val_accuracy: 0.3416\n",
      "Epoch 2/26\n",
      "147/147 [==============================] - 2s 11ms/step - loss: 1.7650 - accuracy: 0.3708 - val_loss: 1.7392 - val_accuracy: 0.3763\n",
      "Epoch 3/26\n",
      "147/147 [==============================] - 2s 11ms/step - loss: 1.6744 - accuracy: 0.4011 - val_loss: 1.7090 - val_accuracy: 0.3903\n",
      "Epoch 4/26\n",
      "147/147 [==============================] - 2s 10ms/step - loss: 1.6092 - accuracy: 0.4273 - val_loss: 1.6113 - val_accuracy: 0.4309\n",
      "Epoch 5/26\n",
      "147/147 [==============================] - 2s 10ms/step - loss: 1.5601 - accuracy: 0.4497 - val_loss: 1.6169 - val_accuracy: 0.4301\n",
      "Epoch 6/26\n",
      "147/147 [==============================] - 2s 10ms/step - loss: 1.5240 - accuracy: 0.4553 - val_loss: 1.5495 - val_accuracy: 0.4545\n",
      "Epoch 7/26\n",
      "147/147 [==============================] - 2s 10ms/step - loss: 1.4971 - accuracy: 0.4683 - val_loss: 1.5693 - val_accuracy: 0.4470\n",
      "Epoch 8/26\n",
      "147/147 [==============================] - 2s 10ms/step - loss: 1.4656 - accuracy: 0.4770 - val_loss: 1.5455 - val_accuracy: 0.4471\n",
      "Epoch 9/26\n",
      "147/147 [==============================] - 2s 10ms/step - loss: 1.4353 - accuracy: 0.4918 - val_loss: 1.5286 - val_accuracy: 0.4641\n",
      "Epoch 10/26\n",
      "147/147 [==============================] - 2s 10ms/step - loss: 1.4013 - accuracy: 0.5003 - val_loss: 1.4816 - val_accuracy: 0.4800\n",
      "Epoch 11/26\n",
      "147/147 [==============================] - 2s 10ms/step - loss: 1.3818 - accuracy: 0.5072 - val_loss: 1.4779 - val_accuracy: 0.4813\n",
      "Epoch 12/26\n",
      "147/147 [==============================] - 2s 10ms/step - loss: 1.3566 - accuracy: 0.5177 - val_loss: 1.4719 - val_accuracy: 0.4809\n",
      "Epoch 13/26\n",
      "147/147 [==============================] - 2s 10ms/step - loss: 1.3290 - accuracy: 0.5260 - val_loss: 1.4588 - val_accuracy: 0.4909\n",
      "Epoch 14/26\n",
      "147/147 [==============================] - 2s 10ms/step - loss: 1.3089 - accuracy: 0.5356 - val_loss: 1.4532 - val_accuracy: 0.4878\n",
      "Epoch 15/26\n",
      "147/147 [==============================] - 2s 11ms/step - loss: 1.2976 - accuracy: 0.5406 - val_loss: 1.4475 - val_accuracy: 0.4897\n",
      "Epoch 16/26\n",
      "147/147 [==============================] - 2s 11ms/step - loss: 1.2664 - accuracy: 0.5497 - val_loss: 1.4333 - val_accuracy: 0.4969\n",
      "Epoch 17/26\n",
      "147/147 [==============================] - 2s 10ms/step - loss: 1.2486 - accuracy: 0.5563 - val_loss: 1.4255 - val_accuracy: 0.5013\n",
      "Epoch 18/26\n",
      "147/147 [==============================] - 2s 11ms/step - loss: 1.2227 - accuracy: 0.5678 - val_loss: 1.4249 - val_accuracy: 0.5058\n",
      "Epoch 19/26\n",
      "147/147 [==============================] - 2s 10ms/step - loss: 1.2054 - accuracy: 0.5732 - val_loss: 1.4257 - val_accuracy: 0.5020\n",
      "Epoch 20/26\n",
      "147/147 [==============================] - 2s 11ms/step - loss: 1.1760 - accuracy: 0.5847 - val_loss: 1.4070 - val_accuracy: 0.5086\n",
      "Epoch 21/26\n",
      "147/147 [==============================] - 2s 11ms/step - loss: 1.1696 - accuracy: 0.5842 - val_loss: 1.4086 - val_accuracy: 0.5156\n",
      "Epoch 22/26\n",
      "147/147 [==============================] - 2s 11ms/step - loss: 1.1620 - accuracy: 0.5897 - val_loss: 1.4443 - val_accuracy: 0.5019\n",
      "Epoch 23/26\n",
      "147/147 [==============================] - 2s 11ms/step - loss: 1.1244 - accuracy: 0.6013 - val_loss: 1.4048 - val_accuracy: 0.5178\n",
      "Epoch 24/26\n",
      "147/147 [==============================] - 2s 11ms/step - loss: 1.1077 - accuracy: 0.6078 - val_loss: 1.4910 - val_accuracy: 0.4901\n",
      "Epoch 25/26\n",
      "147/147 [==============================] - 2s 10ms/step - loss: 1.0916 - accuracy: 0.6125 - val_loss: 1.4441 - val_accuracy: 0.5026\n",
      "Epoch 26/26\n",
      "147/147 [==============================] - 2s 11ms/step - loss: 1.0697 - accuracy: 0.6202 - val_loss: 1.3981 - val_accuracy: 0.5219\n"
     ]
    }
   ],
   "execution_count": 204
  },
  {
   "metadata": {
    "ExecuteTime": {
     "end_time": "2025-03-21T12:47:47.613091Z",
     "start_time": "2025-03-21T12:47:47.580453Z"
    }
   },
   "cell_type": "code",
   "source": [
    "plt.plot(history.history[\"loss\"])\n",
    "plt.plot(history.history[\"val_loss\"])\n",
    "plt.grid()\n",
    "plt.show()"
   ],
   "id": "4817b2714ca65b35",
   "outputs": [
    {
     "data": {
      "text/plain": [
       "<Figure size 640x480 with 1 Axes>"
      ],
      "image/png": "[encoded data removed]"
     },
     "metadata": {},
     "output_type": "display_data"
    }
   ],
   "execution_count": 205
  },
  {
   "metadata": {
    "ExecuteTime": {
     "end_time": "2025-03-21T12:47:48.092545Z",
     "start_time": "2025-03-21T12:47:47.622805Z"
    }
   },
   "cell_type": "code",
   "source": [
    "test_scores = model.evaluate(x_test, y_test, verbose=2)\n",
    "print(\"Test loss:\", test_scores[0])\n",
    "print(\"Test accuracy:\", test_scores[1])"
   ],
   "id": "c948b7c6ef4b0790",
   "outputs": [
    {
     "name": "stdout",
     "output_type": "stream",
     "text": [
      "313/313 - 0s - loss: 1.3778 - accuracy: 0.5179 - 456ms/epoch - 1ms/step\n",
      "Test loss: 1.3778002262115479\n",
      "Test accuracy: 0.5178999900817871\n"
     ]
    }
   ],
   "execution_count": 206
  }
 ],
 "metadata": {
  "kernelspec": {
   "display_name": "Python 3",
   "language": "python",
   "name": "python3"
  },
  "language_info": {
   "codemirror_mode": {
    "name": "ipython",
    "version": 2
   },
   "file_extension": ".py",
   "mimetype": "text/x-python",
   "name": "python",
   "nbconvert_exporter": "python",
   "pygments_lexer": "ipython2",
   "version": "2.7.6"
  }
 },
 "nbformat": 4,
 "nbformat_minor": 5
}
